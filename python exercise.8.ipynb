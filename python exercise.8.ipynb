{
 "cells": [
  {
   "cell_type": "code",
   "execution_count": null,
   "id": "26c442a0",
   "metadata": {},
   "outputs": [],
   "source": [
    "for i in range(1,101):\n",
    "    print(i)"
   ]
  },
  {
   "cell_type": "code",
   "execution_count": null,
   "id": "46d825e2",
   "metadata": {},
   "outputs": [],
   "source": [
    "num1 = int(input(\"enter the number:\"))\n",
    "num2 = int(input(\"enter the number:\"))\n",
    "while num1%num2!=0:\n",
    "    rem = num1%num2\n",
    "    num1 = num2\n",
    "    num2 = rem\n",
    "    hcf = num2\n",
    "print(\"hcf:\",num2)\n",
    "\n",
    "a = num1/num2\n",
    "b = num1/num2\n",
    "print(\"a:\",a)\n",
    "print(\"b:\",b)\n"
   ]
  },
  {
   "cell_type": "code",
   "execution_count": null,
   "id": "fbcbc36a",
   "metadata": {},
   "outputs": [],
   "source": [
    "def remove_duplicates(a):\n",
    "    return list(dict.fromkeys(a))"
   ]
  },
  {
   "cell_type": "code",
   "execution_count": null,
   "id": "1de2ecff",
   "metadata": {},
   "outputs": [],
   "source": [
    "lst = [2,3,4,2,1,1,3,4,5,6,7,4,3,2,1]\n",
    "remove_duplicates(lst)"
   ]
  },
  {
   "cell_type": "code",
   "execution_count": null,
   "id": "de5e0f5c",
   "metadata": {},
   "outputs": [],
   "source": [
    "year = int(input(\"enter the numbers:\"))\n",
    "if year%4==0 and year%100!=0:\n",
    "    print(\"this year is a leap year\")\n",
    "elif year%100==0 and year%400==0:\n",
    "    print(\"this year is leap year\")\n",
    "else:\n",
    "    print(\"this year is not a leap year\")"
   ]
  },
  {
   "cell_type": "code",
   "execution_count": null,
   "id": "3b5db17b",
   "metadata": {},
   "outputs": [],
   "source": [
    "string = \"my name is rajan rai:\"\n",
    "string[::-1]"
   ]
  },
  {
   "cell_type": "code",
   "execution_count": null,
   "id": "05da0f36",
   "metadata": {},
   "outputs": [],
   "source": [
    "string[:-1]"
   ]
  },
  {
   "cell_type": "code",
   "execution_count": null,
   "id": "bf00ad35",
   "metadata": {},
   "outputs": [],
   "source": [
    "string[1:]"
   ]
  },
  {
   "cell_type": "code",
   "execution_count": null,
   "id": "3aadfd00",
   "metadata": {},
   "outputs": [],
   "source": [
    "type(string)"
   ]
  },
  {
   "cell_type": "code",
   "execution_count": null,
   "id": "ae0eebe1",
   "metadata": {},
   "outputs": [],
   "source": [
    "number = 1\n",
    "count = 0\n",
    "while count<=25:\n",
    "    if number%2!=0:\n",
    "        print(number)\n",
    "        count+=1\n",
    "    number+=1\n",
    "        "
   ]
  },
  {
   "cell_type": "code",
   "execution_count": null,
   "id": "be05f446",
   "metadata": {},
   "outputs": [],
   "source": [
    "num = int(input(\"enter the value:\"))\n",
    "sum = 0\n",
    "temp = num\n",
    "while temp>1:\n",
    "    digit = temp%10\n",
    "    cubic = digit**3\n",
    "    sum = sum+cubic\n",
    "    temp//10\n",
    "if sum==num:\n",
    "    print(\"armstrong numbers:\")\n",
    "    break\n",
    "else:\n",
    "    print(\"this is not a armstrong number\")"
   ]
  },
  {
   "cell_type": "code",
   "execution_count": 5,
   "id": "0aac6eea",
   "metadata": {},
   "outputs": [
    {
     "name": "stdout",
     "output_type": "stream",
     "text": [
      "enter the numbers1:45\n",
      "enter the numbers2:2\n",
      "select range 1-41\n",
      "addition: 47\n"
     ]
    }
   ],
   "source": [
    "num1 = int(input(\"enter the numbers1:\"))\n",
    "num2 = int(input(\"enter the numbers2:\"))\n",
    "\n",
    "option = int(input(\"select range 1-4\"))\n",
    "if option==1:\n",
    "    addition = num1+num2\n",
    "    print(\"addition:\",addition)\n",
    "elif option==2:\n",
    "    substraction = num1-num2\n",
    "    print(\"substraction:\",substraction)\n",
    "elif option==3:\n",
    "    multiplication = num1*num2\n",
    "    print(\"multiplication:\",multiplication)\n",
    "elif option==4:\n",
    "    division = num1/num2\n",
    "    print(\"division:\",division)\n",
    "else:\n",
    "    print(\"invalid input:\")"
   ]
  },
  {
   "cell_type": "code",
   "execution_count": null,
   "id": "74c93006",
   "metadata": {},
   "outputs": [],
   "source": []
  }
 ],
 "metadata": {
  "kernelspec": {
   "display_name": "Python 3 (ipykernel)",
   "language": "python",
   "name": "python3"
  },
  "language_info": {
   "codemirror_mode": {
    "name": "ipython",
    "version": 3
   },
   "file_extension": ".py",
   "mimetype": "text/x-python",
   "name": "python",
   "nbconvert_exporter": "python",
   "pygments_lexer": "ipython3",
   "version": "3.10.9"
  }
 },
 "nbformat": 4,
 "nbformat_minor": 5
}
